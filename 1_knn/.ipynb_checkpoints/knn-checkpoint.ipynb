{
 "cells": [
  {
   "cell_type": "code",
   "execution_count": null,
   "metadata": {},
   "outputs": [],
   "source": [
    "'''--------\n",
    "| Modules |\n",
    "--------'''\n",
    "import sklearn.neighbors as skn\n",
    "import sklearn.model_selection as skts\n",
    "import numpy as np"
   ]
  },
  {
   "cell_type": "code",
   "execution_count": 88,
   "metadata": {},
   "outputs": [],
   "source": [
    "'''---------------\n",
    "| Data Functions |\n",
    "---------------'''\n",
    "# Functions for importing and parsing data.\n",
    "\n",
    "# Purpose:   To import and split data for training and for validation from a .csv file.\n",
    "# Arguments: (1) Link to csv data in a form that can be accessed by\n",
    "#                the \"read_csv\" function of pandas, url, or file with\n",
    "#                path.\n",
    "#            (2) Floating-point decimal from 0 to 1 representing how much\n",
    "#                data should be used for training.\n",
    "# Output:    Two np arrays. The first containing the data to be used in training and\n",
    "#            the second the remainder of the data to be used for testing.\n",
    "def load_dataset(filename):\n",
    "    df = pd.read_csv(filename, header=None)\n",
    "    array = df.to_numpy()\n",
    "    random.shuffle(array)\n",
    "    return array\n",
    "\n",
    "# Purpose:\n",
    "# Arguments: (1) Nested, sliceable datastructure containing features with the label\n",
    "#                as the final entry. Level-one caintaining all entries and level-two\n",
    "#                containing the features and label.\n",
    "# Output:    Two lists. One containing all class features in their original order and\n",
    "#            a second containing all class labels in their original order.\n",
    "def label_feature_split(data):\n",
    "    feature_collection = []\n",
    "    label_collection   = []\n",
    "    for entry in data:\n",
    "        feature_collection.append(entry[:-1])\n",
    "        label_collection.append(entry[-1])\n",
    "    feature_collection = [list(i) for i in feature_collection]\n",
    "    return feature_collection, label_collection"
   ]
  },
  {
   "cell_type": "code",
   "execution_count": 136,
   "metadata": {},
   "outputs": [],
   "source": [
    "'''---------------------------\n",
    "| Model Generation an Testing|\n",
    "---------------------------'''\n",
    "# Generation and testing of varied knn k value.\n",
    "\n",
    "import sklearn.neighbors as skn\n",
    "import sklearn.model_selection as skts\n",
    "import numpy as np\n",
    "\n",
    "# Training data\n",
    "training_set = []\n",
    "# Test data\n",
    "test_set = []\n",
    "# Url to .csv containing data\n",
    "url = 'https://raw.githubusercontent.com/ruiwu1990/CSCI_4120/master/KNN/iris.data'\n",
    "data = load_dataset(url)\n",
    "feature_collection, label_collection = label_feature_split(data)\n",
    "\n",
    "\n",
    "# List containing tuples with two entries. First is n and second is the average\n",
    "# score.\n",
    "n_with_score = dict()\n",
    "for test_n in range(0, 5):\n",
    "    for n in range(1, 21):\n",
    "        if n in n_with_score:\n",
    "            pass\n",
    "        else:\n",
    "            n_with_score[n] = []\n",
    "        feature_train, feature_test, label_train, label_test = skts.train_test_split(feature_collection, \n",
    "                                                                             label_collection, \n",
    "                                                                             test_size = 0.20)\n",
    "        hood = skn.KNeighborsClassifier(n_neighbors = n)\n",
    "        hood.fit(feature_train, label_train)\n",
    "        score = hood.score(feature_test, label_test)\n",
    "        n_with_score[n].append(score)\n",
    "        \n",
    "# Calculate average score\n",
    "plot_data_x = []\n",
    "plot_data_y = []\n",
    "for key in n_with_score:\n",
    "    n_with_score[key] = np.mean(np.array(n_with_score[key]))\n",
    "    plot_data_x.append(int(key))\n",
    "    plot_data_y.append(n_with_score[key])"
   ]
  },
  {
   "cell_type": "code",
   "execution_count": 140,
   "metadata": {},
   "outputs": [
    {
     "name": "stdout",
     "output_type": "stream",
     "text": [
      "120\n",
      "{'Iris-versicolor', 'Iris-setosa', 'Iris-virginica'}\n"
     ]
    }
   ],
   "source": [
    "print(len(label_train))\n",
    "print(set(label_train))"
   ]
  },
  {
   "cell_type": "code",
   "execution_count": 137,
   "metadata": {},
   "outputs": [
    {
     "data": {
      "image/png": "[encoded data removed]",
      "text/plain": [
       "<Figure size 432x288 with 1 Axes>"
      ]
     },
     "metadata": {
      "needs_background": "light"
     },
     "output_type": "display_data"
    }
   ],
   "source": [
    "'''--------------\n",
    "| Visualization |\n",
    "--------------'''\n",
    "\n",
    "import matplotlib.pyplot as plt\n",
    "import matplotlib.ticker as ticker\n",
    "\n",
    "fig = plt.figure()\n",
    "ax = plt.axes()\n",
    "\n",
    "# Be sure to only pick integer tick locations.\n",
    "for axis in [ax.xaxis, ax.yaxis]:\n",
    "    axis.set_major_locator(ticker.MaxNLocator(integer=True))\n",
    "\n",
    "z = np.polyfit(plot_data_x, plot_data_y, 1)\n",
    "p = np.poly1d(z)\n",
    "ax.plot(plot_data_x, p(plot_data_x),\"r--\")\n",
    "    \n",
    "plt.xlim(-0.5, 20.5)\n",
    "ax.plot(plot_data_x, plot_data_y);"
   ]
  },
  {
   "cell_type": "code",
   "execution_count": null,
   "metadata": {},
   "outputs": [],
   "source": []
  }
 ],
 "metadata": {
  "kernelspec": {
   "display_name": "Python 3",
   "language": "python",
   "name": "python3"
  },
  "language_info": {
   "codemirror_mode": {
    "name": "ipython",
    "version": 3
   },
   "file_extension": ".py",
   "mimetype": "text/x-python",
   "name": "python",
   "nbconvert_exporter": "python",
   "pygments_lexer": "ipython3",
   "version": "3.7.6"
  }
 },
 "nbformat": 4,
 "nbformat_minor": 2
}
