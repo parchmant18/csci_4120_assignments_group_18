{
 "cells": [
  {
   "cell_type": "markdown",
   "metadata": {},
   "source": [
    "# Homework 1\n",
    "\n",
    "## Team Members\n",
    "Samuel Lindsay, lindsays15@students.ecu.edu<br>\n",
    "Ian Lozano Diaz, lozanodiazi20@students.ecu.edu<br>\n",
    "Thaddaeus Parchman, parchmant18@students.ecu.edu<br>\n",
    "\n",
    "## Run Instructions\n",
    "\n",
    "### Dependencies\n",
    "\n",
    "Required Python modules.\n",
    "``` Python\n",
    "numpy\n",
    "sklearn\n",
    "matplotlib\n",
    "```\n",
    "\n",
    "### Running\n",
    "\n",
    "Two files that can be run are included, a jupyter notebook file and python file. To run using jupyter, load the file and execute each cell interactively. To Run the Python file under a Unix environment use the command below where the version of python is =>3.7.\n",
    "\n",
    "``` bash\n",
    "python ./knn.py\n",
    "```\n",
    "\n",
    "### Run Parameters\n",
    "\n",
    "While crude, the user does have the ability to modify one runtime parameter with relative ease. Under a section titled \"Options\", in both the notebook and Python file, there is a variable \"trials\", this is initially set at 5 but can be easily modified by the user. We conducted several runs with this variable set to a value of 1000.\n",
    "\n",
    "## Questions\n",
    "\n",
    "### Which K (from 1 to 20) works the best? If all Ks have similar accuracy, please write down your thoughts about “Why.”\n",
    "\n",
    "We found that a run of only five trials per k was insufficient for stable reproduction of trends. We became curious and expanded the number of trials greatly, to 1000. Graphs of 5 trials and 1000 trials are both provided below. Multiple reproductions of the 1000 trial graph demonstrated a maximum accuracy in the range of 1 <= k <= 4. In our observations a k of 3 was most frequently the highest scoring for the 1000 trial runs. We hypothesize that this is the case because the categories are distinctly clustered from each other. Thus, it requires little information to group them. A k above a threshold ~4 can have a relatively large negative impact.\n",
    "\n",
    "![k = 1000 plot](k1000.png)"
   ]
  },
  {
   "cell_type": "code",
   "execution_count": 1,
   "metadata": {},
   "outputs": [
    {
     "data": {
      "text/plain": [
       "'/Users/samuellindsay/Documents/Classes/current_courses/machine_learning/class_repo/CSCI_4120/KNN'"
      ]
     },
     "execution_count": 1,
     "metadata": {},
     "output_type": "execute_result"
    }
   ],
   "source": [
    "pwd"
   ]
  }
 ],
 "metadata": {
  "kernelspec": {
   "display_name": "Python 3",
   "language": "python",
   "name": "python3"
  },
  "language_info": {
   "codemirror_mode": {
    "name": "ipython",
    "version": 3
   },
   "file_extension": ".py",
   "mimetype": "text/x-python",
   "name": "python",
   "nbconvert_exporter": "python",
   "pygments_lexer": "ipython3",
   "version": "3.7.6"
  }
 },
 "nbformat": 4,
 "nbformat_minor": 4
}
