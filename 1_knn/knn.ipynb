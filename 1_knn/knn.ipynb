{
 "cells": [
  {
   "cell_type": "code",
   "execution_count": 5,
   "metadata": {},
   "outputs": [],
   "source": [
    "'''--------\n",
    "| Modules |\n",
    "--------'''\n",
    "import sklearn.neighbors as skn\n",
    "import sklearn.model_selection as skts\n",
    "import numpy as np\n",
    "import pandas as pd"
   ]
  },
  {
   "cell_type": "code",
   "execution_count": 24,
   "metadata": {},
   "outputs": [],
   "source": [
    "'''--------\n",
    "| Options |\n",
    "--------'''\n",
    "\n",
    "trials = 5\n",
    "plot_name = \"./k5.png\""
   ]
  },
  {
   "cell_type": "code",
   "execution_count": 21,
   "metadata": {},
   "outputs": [],
   "source": [
    "'''---------------\n",
    "| Data Functions |\n",
    "---------------'''\n",
    "# Functions for importing and parsing data.\n",
    "\n",
    "# Purpose:   To import and split data for training and for validation from a .csv file.\n",
    "# Arguments: (1) Link to csv data in a form that can be accessed by\n",
    "#                the \"read_csv\" function of pandas, url, or file with\n",
    "#                path.\n",
    "#            (2) Floating-point decimal from 0 to 1 representing how much\n",
    "#                data should be used for training.\n",
    "# Output:    Two np arrays. The first containing the data to be used in training and\n",
    "#            the second the remainder of the data to be used for testing.\n",
    "def load_dataset(filename):\n",
    "    df = pd.read_csv(filename, header=None)\n",
    "    array = df.to_numpy()\n",
    "    #random.shuffle(array)\n",
    "    return array\n",
    "\n",
    "# Purpose:\n",
    "# Arguments: (1) Nested, sliceable datastructure containing features with the label\n",
    "#                as the final entry. Level-one caintaining all entries and level-two\n",
    "#                containing the features and label.\n",
    "# Output:    Two lists. One containing all class features in their original order and\n",
    "#            a second containing all class labels in their original order.\n",
    "def label_feature_split(data):\n",
    "    feature_collection = []\n",
    "    label_collection   = []\n",
    "    for entry in data:\n",
    "        feature_collection.append(entry[:-1])\n",
    "        label_collection.append(entry[-1])\n",
    "    feature_collection = [list(i) for i in feature_collection]\n",
    "    return feature_collection, label_collection"
   ]
  },
  {
   "cell_type": "code",
   "execution_count": 25,
   "metadata": {},
   "outputs": [],
   "source": [
    "'''---------------------------\n",
    "| Model Generation an Testing|\n",
    "---------------------------'''\n",
    "# Generation and testing of varied knn k value.\n",
    "\n",
    "import sklearn.neighbors as skn\n",
    "import sklearn.model_selection as skts\n",
    "import numpy as np\n",
    "\n",
    "# Training data\n",
    "training_set = []\n",
    "# Test data\n",
    "test_set = []\n",
    "# Url to .csv containing data\n",
    "url = 'https://raw.githubusercontent.com/ruiwu1990/CSCI_4120/master/KNN/iris.data'\n",
    "data = load_dataset(url)\n",
    "feature_collection, label_collection = label_feature_split(data)\n",
    "\n",
    "\n",
    "# Dict to contain results. K-value as index and results in a list.\n",
    "n_with_score = dict()\n",
    "for test_n in range(0, trials):\n",
    "    # Split data before varying k. Ensures that k is the only factor being changed.\n",
    "    feature_train, feature_test, label_train, label_test = skts.train_test_split(feature_collection, \n",
    "                                                                             label_collection, \n",
    "                                                                             test_size = 0.20)\n",
    "    for n in range(1, 21):\n",
    "        # If index not present in dictionary then add it.\n",
    "        if n in n_with_score:\n",
    "            pass\n",
    "        else:\n",
    "            n_with_score[n] = []\n",
    "        # knn code\n",
    "        hood = skn.KNeighborsClassifier(n_neighbors = n)\n",
    "        hood.fit(feature_train, label_train)\n",
    "        score = hood.score(feature_test, label_test)\n",
    "        n_with_score[n].append(score)\n",
    "        \n",
    "# Lists to store average score data.\n",
    "plot_data_x = []\n",
    "plot_data_y = []\n",
    "# Calculate means for each k value. \n",
    "for key in n_with_score:\n",
    "    n_with_score[key] = np.mean(np.array(n_with_score[key]))\n",
    "    plot_data_x.append(int(key))\n",
    "    plot_data_y.append(n_with_score[key])"
   ]
  },
  {
   "cell_type": "code",
   "execution_count": 19,
   "metadata": {},
   "outputs": [
    {
     "name": "stdout",
     "output_type": "stream",
     "text": [
      "{1: 0.9566333333333334, 2: 0.9445666666666669, 3: 0.9600000000000001, 4: 0.9568000000000001, 5: 0.9628, 6: 0.9592333333333334, 7: 0.9632000000000001, 8: 0.9621333333333334, 9: 0.9641000000000002, 10: 0.9617, 11: 0.9645000000000001, 12: 0.9621000000000001, 13: 0.9661666666666667, 14: 0.9624000000000001, 15: 0.9656333333333335, 16: 0.9616333333333335, 17: 0.9643333333333334, 18: 0.9586666666666668, 19: 0.9591000000000002, 20: 0.9533333333333335}\n"
     ]
    }
   ],
   "source": [
    "print(n_with_score)\n"
   ]
  },
  {
   "cell_type": "code",
   "execution_count": 26,
   "metadata": {},
   "outputs": [
    {
     "data": {
      "image/png": "[encoded data removed]",
      "text/plain": [
       "<Figure size 432x288 with 1 Axes>"
      ]
     },
     "metadata": {
      "needs_background": "light"
     },
     "output_type": "display_data"
    }
   ],
   "source": [
    "'''--------------\n",
    "| Visualization |\n",
    "--------------'''\n",
    "\n",
    "import matplotlib.pyplot as plt\n",
    "import matplotlib.ticker as ticker\n",
    "\n",
    "fig = plt.figure()\n",
    "ax = plt.axes()\n",
    "\n",
    "# Be sure to only pick integer tick locations.\n",
    "for axis in [ax.xaxis, ax.yaxis]:\n",
    "    axis.set_major_locator(ticker.MaxNLocator(integer=True))\n",
    "\n",
    "# Add trendline\n",
    "z = np.polyfit(plot_data_x, plot_data_y, 1)\n",
    "p = np.poly1d(z)\n",
    "ax.plot(plot_data_x, p(plot_data_x),\"r--\")\n",
    "    \n",
    "plt.xlim(-0.5, 20.5)\n",
    "ax.plot(plot_data_x, plot_data_y);\n",
    "\n",
    "plt.savefig(plot_name)"
   ]
  },
  {
   "cell_type": "code",
   "execution_count": 147,
   "metadata": {},
   "outputs": [
    {
     "name": "stdout",
     "output_type": "stream",
     "text": [
      "iris.data  k1000.png  knn.ipynb\r\n"
     ]
    }
   ],
   "source": [
    "ls"
   ]
  }
 ],
 "metadata": {
  "kernelspec": {
   "display_name": "Python 3",
   "language": "python",
   "name": "python3"
  },
  "language_info": {
   "codemirror_mode": {
    "name": "ipython",
    "version": 3
   },
   "file_extension": ".py",
   "mimetype": "text/x-python",
   "name": "python",
   "nbconvert_exporter": "python",
   "pygments_lexer": "ipython3",
   "version": "3.7.6"
  }
 },
 "nbformat": 4,
 "nbformat_minor": 2
}
